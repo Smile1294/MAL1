{
 "cells": [
  {
   "cell_type": "markdown",
   "metadata": {},
   "source": [
    "# Exercise\n",
    "\n",
    "In this exercise you are going to do linear regression. You can use the Boston dataset (from last week) - note that this time we don't turn it into a classification exercise, but predict the **actual** prices!\n",
    "\n",
    "You are also welcome to use another dataset, if you prefer. Just be aware that it should be suitable for regression, not classification! So if you use one of the datasets we have considered in previous lectures, you should probably choose another column as the target than we did when we used it for classification. \n",
    "\n",
    "You can also try a datasets from kaggle, for example one of these:\n",
    "\n",
    "Predicting probability of admission to Masters programme at several Indian Universities: https://www.kaggle.com/mohansacharya/graduate-admissions\n",
    "\n",
    "\n",
    "Predicting life expectance based on various metrics from WHO:                   \n",
    "https://www.kaggle.com/kumarajarshi/life-expectancy-who\n",
    "\n",
    "\n",
    "Below the exercise is describe (in terms of the Boston dataset):\n"
   ]
  },
  {
   "cell_type": "markdown",
   "metadata": {},
   "source": [
    "Do a linear regression analysis of the Boston dataset where you try to predict 'Price' in terms of the other features which are stored in X_train. Your analysis should include:\n",
    " * A full linear regression model along with considerations about its performance ($R^2$)\n",
    " * A full cross validated ridge regression. Compare performance metric with the one from OLS and determine the best value for $\\alpha$\n",
    " * A full cross validated lasso regression. Compare performance metric with the ones from OLS and ridge and determine the best value for $\\alpha$. Which features are discarded by the lasso?\n",
    "\n",
    "If you are in doubt, please see the documentation\n",
    "\n",
    "https://scikit-learn.org/stable/modules/generated/sklearn.linear_model.LinearRegression.html\n",
    "\n",
    "https://scikit-learn.org/stable/modules/generated/sklearn.linear_model.RidgeCV.html\n",
    "\n",
    "https://scikit-learn.org/stable/modules/generated/sklearn.linear_model.LassoCV.html\n"
   ]
  },
  {
   "cell_type": "code",
   "execution_count": 4,
   "metadata": {},
   "outputs": [],
   "source": [
    "%matplotlib inline\n",
    "import numpy as np\n",
    "import matplotlib.pyplot as plt\n",
    "import pandas as pd\n",
    "from IPython.display import display\n",
    "from sklearn.model_selection import train_test_split\n",
    "from sklearn.model_selection import cross_val_score\n",
    "import scipy as scipy\n",
    "import seaborn as sns"
   ]
  },
  {
   "cell_type": "markdown",
   "metadata": {},
   "source": [
    "I will prepare the data for you..."
   ]
  },
  {
   "cell_type": "code",
   "execution_count": 5,
   "metadata": {},
   "outputs": [
    {
     "name": "stdout",
     "output_type": "stream",
     "text": [
      "      CRIM    ZN  INDUS  CHAS    NOX     RM   AGE     DIS  RAD  TAX  PTRATIO  \\\n",
      "0  0.00632  18.0   2.31     0  0.538  6.575  65.2  4.0900    1  296     15.3   \n",
      "1  0.02731   0.0   7.07     0  0.469  6.421  78.9  4.9671    2  242     17.8   \n",
      "2  0.02729   0.0   7.07     0  0.469  7.185  61.1  4.9671    2  242     17.8   \n",
      "3  0.03237   0.0   2.18     0  0.458  6.998  45.8  6.0622    3  222     18.7   \n",
      "4  0.06905   0.0   2.18     0  0.458  7.147  54.2  6.0622    3  222     18.7   \n",
      "\n",
      "   LSTAT  MEDV  CAT.MEDV  \n",
      "0   4.98  24.0         0  \n",
      "1   9.14  21.6         0  \n",
      "2   4.03  34.7         1  \n",
      "3   2.94  33.4         1  \n",
      "4   5.33  36.2         1  \n"
     ]
    }
   ],
   "source": [
    "# Path to your Excel file\n",
    "file_path = \"Boston Housing.xlsx\"\n",
    "\n",
    "# Read the Excel file into a pandas DataFrame\n",
    "data = pd.read_excel(file_path)\n",
    "\n",
    "# Display the first few rows of the DataFrame to verify\n",
    "print(data.head())"
   ]
  },
  {
   "cell_type": "code",
   "execution_count": 6,
   "metadata": {},
   "outputs": [],
   "source": [
    "features = data.drop(columns=['MEDV', 'CAT.MEDV'])\n",
    "target = data['MEDV']"
   ]
  },
  {
   "cell_type": "code",
   "execution_count": 7,
   "metadata": {},
   "outputs": [
    {
     "name": "stdout",
     "output_type": "stream",
     "text": [
      "Size of training set:379\n",
      "Size of test set:127\n"
     ]
    }
   ],
   "source": [
    "X_train, X_test, y_train, y_test = train_test_split(features, target, random_state=42)\n",
    "print(\"Size of training set:{}\".format(X_train.shape[0]))\n",
    "print(\"Size of test set:{}\".format(X_test.shape[0]))"
   ]
  }
 ],
 "metadata": {
  "kernelspec": {
   "display_name": "Python 3",
   "language": "python",
   "name": "python3"
  },
  "language_info": {
   "codemirror_mode": {
    "name": "ipython",
    "version": 3
   },
   "file_extension": ".py",
   "mimetype": "text/x-python",
   "name": "python",
   "nbconvert_exporter": "python",
   "pygments_lexer": "ipython3",
   "version": "3.11.1"
  }
 },
 "nbformat": 4,
 "nbformat_minor": 2
}
